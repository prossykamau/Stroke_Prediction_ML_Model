{
 "cells": [
  {
   "cell_type": "markdown",
   "metadata": {},
   "source": [
    " ### **Stroke Prediction Model**"
   ]
  },
  {
   "cell_type": "markdown",
   "metadata": {},
   "source": [
    "**Overview**\n",
    "\n",
    "This repository contains a machine learning project aimed at predicting the likelihood of stroke occurrence based on various health parameters. By analyzing a comprehensive dataset with features like age, hypertension, heart disease, glucose levels, BMI, gender, marital status, work type, residence type, and smoking status, this project seeks to build robust classification models to accurately predict stroke risk."
   ]
  },
  {
   "cell_type": "markdown",
   "metadata": {},
   "source": [
    "**Business and Data Understanding**\n",
    "\n",
    "**Stakeholder Audience**\n",
    "\n",
    "The primary stakeholders for this project include healthcare providers, researchers, and public health officials. The goal is to equip them with a predictive tool that can help in early identification of individuals at high risk of stroke, allowing for timely intervention and better resource allocation."
   ]
  },
  {
   "cell_type": "markdown",
   "metadata": {},
   "source": [
    "**Dataset Choice**\n",
    "\n",
    "The dataset used in this project comprises anonymized health records with various features related to stroke risk factors. It is chosen for its comprehensiveness and relevance to the problem at hand, providing a solid foundation for building accurate predictive models."
   ]
  },
  {
   "cell_type": "markdown",
   "metadata": {},
   "source": [
    "**Modeling**\n",
    "\n",
    "The project employs several classification algorithms to predict stroke risk. These models are trained and evaluated using a pipeline that includes data preprocessing steps such as scaling numeric features and one-hot encoding categorical features. The models explored include K-Nearest Neighbors (KNN) with hyperparameter tuning to optimize performance,RandomForestClassifier,DecisionTreeClassifier, LogisticRegression and GradientBoostingClassifier."
   ]
  },
  {
   "cell_type": "markdown",
   "metadata": {},
   "source": [
    "**Evaluation**\n",
    "\n",
    "The performance of the models is evaluated using metrics such as precision, recall, f1-score, and accuracy. The results indicate high accuracy in predicting non-stroke cases but highlight challenges in accurately predicting stroke occurrences due to class imbalance."
   ]
  },
  {
   "cell_type": "markdown",
   "metadata": {},
   "source": [
    "**Conclusion**\n",
    "\n",
    "The developed models show promising results in predicting stroke risk, particularly for non-stroke cases. However, further work is needed to improve prediction accuracy for stroke cases, potentially through techniques like class balancing, feature engineering, and exploring more complex algorithms."
   ]
  },
  {
   "cell_type": "markdown",
   "metadata": {},
   "source": [
    "**Getting Started**\n",
    "\n",
    "**Prerequisites**\n",
    "\n",
    "    Python 3.6 \n",
    "    Anaconda \n",
    "    Jupyter\n",
    "    Git Bash"
   ]
  },
  {
   "cell_type": "markdown",
   "metadata": {},
   "source": [
    "**Installation**\n",
    "\n",
    "   1. **Clone the repository**"
   ]
  },
  {
   "cell_type": "markdown",
   "metadata": {},
   "source": [
    "git clone https://github.com/prossykamau/Stroke-Prediction-Model\n"
   ]
  },
  {
   "cell_type": "markdown",
   "metadata": {},
   "source": [
    "2. **Navigate to the project directory:**"
   ]
  },
  {
   "cell_type": "code",
   "execution_count": null,
   "metadata": {},
   "outputs": [],
   "source": [
    "cd stroke-prediction-model\n"
   ]
  },
  {
   "cell_type": "markdown",
   "metadata": {},
   "source": [
    "3. **Create and activate a virtual environment:**"
   ]
  },
  {
   "cell_type": "code",
   "execution_count": null,
   "metadata": {},
   "outputs": [],
   "source": [
    "python -m venv env\n",
    "source env/bin/activate  # On Windows use `env\\Scripts\\activate`\n"
   ]
  },
  {
   "cell_type": "markdown",
   "metadata": {},
   "source": [
    "4. **Install the required packages:**"
   ]
  },
  {
   "cell_type": "code",
   "execution_count": null,
   "metadata": {},
   "outputs": [],
   "source": [
    "pip install -r requirements.txt\n"
   ]
  },
  {
   "cell_type": "markdown",
   "metadata": {},
   "source": [
    "**Usage**"
   ]
  },
  {
   "cell_type": "markdown",
   "metadata": {},
   "source": [
    "1. **Run the Jupyter Notebook:**"
   ]
  },
  {
   "cell_type": "code",
   "execution_count": null,
   "metadata": {},
   "outputs": [],
   "source": [
    "jupyter notebook\n"
   ]
  },
  {
   "cell_type": "markdown",
   "metadata": {},
   "source": [
    "2. **Open the stroke_prediction.ipynb notebook and follow the steps to preprocess data, train models, and evaluate performance.**"
   ]
  },
  {
   "cell_type": "markdown",
   "metadata": {},
   "source": [
    "**Help**"
   ]
  },
  {
   "cell_type": "markdown",
   "metadata": {},
   "source": [
    "If you encounter any issues or have questions, feel free to  reach out via email at prossykamau@gmail.com."
   ]
  },
  {
   "cell_type": "markdown",
   "metadata": {},
   "source": [
    "**Maintainers**"
   ]
  },
  {
   "cell_type": "markdown",
   "metadata": {},
   "source": [
    "Prossy Nansubuga Kamau"
   ]
  },
  {
   "cell_type": "code",
   "execution_count": null,
   "metadata": {},
   "outputs": [],
   "source": []
  }
 ],
 "metadata": {
  "kernelspec": {
   "display_name": "Python 3",
   "language": "python",
   "name": "python3"
  },
  "language_info": {
   "codemirror_mode": {
    "name": "ipython",
    "version": 3
   },
   "file_extension": ".py",
   "mimetype": "text/x-python",
   "name": "python",
   "nbconvert_exporter": "python",
   "pygments_lexer": "ipython3",
   "version": "3.8.5"
  }
 },
 "nbformat": 4,
 "nbformat_minor": 5
}
